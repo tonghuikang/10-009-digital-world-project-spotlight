{
 "cells": [
  {
   "cell_type": "code",
   "execution_count": 7,
   "metadata": {},
   "outputs": [],
   "source": [
    "def num_of_sol_given_number(n,b):\n",
    "    if b == 2:\n",
    "        return n+1\n",
    "    if n == 1:\n",
    "        return b\n",
    "    if n == 0:\n",
    "        return 1\n",
    "    return sum([num_of_sol_given_number(n-m,b-1) for m in range(n+1)])\n",
    "\n",
    "def num_of_sol(n):\n",
    "    return num_of_sol_given_number(n,5)"
   ]
  },
  {
   "cell_type": "code",
   "execution_count": 8,
   "metadata": {},
   "outputs": [
    {
     "name": "stdout",
     "output_type": "stream",
     "text": [
      "35\n",
      "70\n",
      "22533126\n",
      "Time taken by MBP 2017: 0.114471912384s\n"
     ]
    }
   ],
   "source": [
    "print(num_of_sol(3))\n",
    "print(num_of_sol(4))\n",
    "\n",
    "import time\n",
    "time_ = time.time()\n",
    "print(num_of_sol(150))\n",
    "print(\"Time taken by MBP 2017: {}s\".format(time.time() - time_))\n"
   ]
  },
  {
   "cell_type": "code",
   "execution_count": null,
   "metadata": {},
   "outputs": [],
   "source": []
  }
 ],
 "metadata": {
  "kernelspec": {
   "display_name": "Python 2",
   "language": "python",
   "name": "python2"
  },
  "language_info": {
   "codemirror_mode": {
    "name": "ipython",
    "version": 2
   },
   "file_extension": ".py",
   "mimetype": "text/x-python",
   "name": "python",
   "nbconvert_exporter": "python",
   "pygments_lexer": "ipython2",
   "version": "2.7.14"
  }
 },
 "nbformat": 4,
 "nbformat_minor": 2
}
