{
 "cells": [
  {
   "cell_type": "code",
   "execution_count": 2,
   "metadata": {},
   "outputs": [
    {
     "ename": "ImportError",
     "evalue": "No module named 'RPi'",
     "output_type": "error",
     "traceback": [
      "\u001b[0;31m---------------------------------------------------------------------------\u001b[0m",
      "\u001b[0;31mImportError\u001b[0m                               Traceback (most recent call last)",
      "\u001b[0;32m<ipython-input-2-5832f2f0a1a5>\u001b[0m in \u001b[0;36m<module>\u001b[0;34m()\u001b[0m\n\u001b[0;32m----> 1\u001b[0;31m \u001b[0;32mimport\u001b[0m \u001b[0mRPi\u001b[0m\u001b[0;34m.\u001b[0m\u001b[0mGPIO\u001b[0m \u001b[0;32mas\u001b[0m \u001b[0mGPIO\u001b[0m\u001b[0;34m\u001b[0m\u001b[0m\n\u001b[0m\u001b[1;32m      2\u001b[0m \u001b[0;32mfrom\u001b[0m \u001b[0mtime\u001b[0m \u001b[0;32mimport\u001b[0m \u001b[0msleep\u001b[0m\u001b[0;34m\u001b[0m\u001b[0m\n\u001b[1;32m      3\u001b[0m \u001b[0;34m\u001b[0m\u001b[0m\n\u001b[1;32m      4\u001b[0m \u001b[0;31m# Use the BCM GPIO numbers as the numbering scheme\u001b[0m\u001b[0;34m\u001b[0m\u001b[0;34m\u001b[0m\u001b[0m\n\u001b[1;32m      5\u001b[0m \u001b[0mGPIO\u001b[0m\u001b[0;34m.\u001b[0m\u001b[0msetmode\u001b[0m\u001b[0;34m(\u001b[0m\u001b[0mGPIO\u001b[0m\u001b[0;34m.\u001b[0m\u001b[0mBCM\u001b[0m\u001b[0;34m)\u001b[0m\u001b[0;34m\u001b[0m\u001b[0m\n",
      "\u001b[0;31mImportError\u001b[0m: No module named 'RPi'"
     ]
    }
   ],
   "source": [
    "import RPi.GPIO as GPIO\n",
    "from time import sleep\n",
    "\n",
    "# Use the BCM GPIO numbers as the numbering scheme\n",
    "GPIO.setmode(GPIO.BCM)\n",
    "\n",
    "# Use GPIO23 for LED 1, GPIO24 for LED 2 and GPIO18 for switch\n",
    "led = [23, 24]\n",
    "switch = 18\n",
    "\n",
    "# Set the GPIO23 and GPIO24 as output.\n",
    "GPIO.setup(led, GPIO.OUT)\n",
    "\n",
    "# Set the GPIO18 as input with a pull-down resistor.\n",
    "GPIO.setup(switch, GPIO.IN, GPIO.PUD_DOWN)\n",
    "\n",
    "def blink(gpio_number, duration):\n",
    "    GPIO.output(gpio_number, GPIO.HIGH)\n",
    "    time.sleep(duration)\n",
    "    GPIO.output(gpio_number, GPIO.LOW)\n",
    "    time.sleep(duration)\n",
    "    '''This function takes in two input: gpio_number and duration. The\n",
    "    gpio_number specifies the GPIO number which the LED (to be blinked) is\n",
    "    connected to. The duration is the blink interval in seconds.'''\n",
    "\n",
    "    # Write your code here\n",
    "#     pass\n",
    "\n",
    "# while True:\n",
    "    \n",
    "while True:\n",
    "    # Check whether the switch is closed or opened. \n",
    "    \n",
    "    # When the switch is opened, \n",
    "    # turn off the LED at GPIO23 and blink the LED at GPIO24. \n",
    "    # The blink interval should be 1 second.\n",
    "\n",
    "    # Write your code here\n",
    "    if GPIO.input(switch) == GPIO.HIGH: # switch is connected\n",
    "        # When the switch is closed,\n",
    "        # turn off the LED at GPIO24 \n",
    "        GPIO.output(led[1], GPIO.LOW) # turn on the LED\n",
    "        # and blink the LED at GPIO23. \n",
    "        blink(led[0],1)\n",
    "    else: # switch is disconnected\n",
    "        # When the switch is opened, \n",
    "        # turn off the LED at GPIO23 \n",
    "        GPIO.output(led[0], GPIO.LOW) # turn off the LED\n",
    "        # and blink the LED at GPIO24. \n",
    "        blink(led[1],1)\n"
   ]
  },
  {
   "cell_type": "code",
   "execution_count": null,
   "metadata": {
    "collapsed": true
   },
   "outputs": [],
   "source": []
  }
 ],
 "metadata": {
  "kernelspec": {
   "display_name": "Python 3",
   "language": "python",
   "name": "python3"
  },
  "language_info": {
   "codemirror_mode": {
    "name": "ipython",
    "version": 3
   },
   "file_extension": ".py",
   "mimetype": "text/x-python",
   "name": "python",
   "nbconvert_exporter": "python",
   "pygments_lexer": "ipython3",
   "version": "3.5.2"
  }
 },
 "nbformat": 4,
 "nbformat_minor": 2
}
